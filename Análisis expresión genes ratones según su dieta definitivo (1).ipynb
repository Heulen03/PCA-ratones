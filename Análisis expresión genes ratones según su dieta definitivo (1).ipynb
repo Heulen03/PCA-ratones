{
 "cells": [
  {
   "cell_type": "markdown",
   "id": "5515b411",
   "metadata": {},
   "source": [
    "Este paso es opcional, pero yo instalaré la librería fastcluster para optimizar la rapidez de los algoritmos de clustering jerárquico"
   ]
  },
  {
   "cell_type": "code",
   "execution_count": 1,
   "id": "06fb339a",
   "metadata": {},
   "outputs": [
    {
     "name": "stdout",
     "output_type": "stream",
     "text": [
      "Requirement already satisfied: fastcluster in c:\\users\\lucia\\anaconda3\\lib\\site-packages (1.2.6)\n",
      "Requirement already satisfied: numpy>=1.9 in c:\\users\\lucia\\anaconda3\\lib\\site-packages (from fastcluster) (1.23.5)\n",
      "Note: you may need to restart the kernel to use updated packages.\n"
     ]
    }
   ],
   "source": [
    "pip install fastcluster"
   ]
  },
  {
   "cell_type": "markdown",
   "id": "67549adb",
   "metadata": {},
   "source": [
    "En primer lugar, me encargaré de importar todas las librerías necesarias"
   ]
  },
  {
   "cell_type": "code",
   "execution_count": 2,
   "id": "50ea7349",
   "metadata": {},
   "outputs": [],
   "source": [
    "import pandas as pd\n",
    "import numpy as np\n",
    "import matplotlib.pyplot as plt\n",
    "import seaborn as sns\n",
    "from sklearn.decomposition import PCA\n",
    "from sklearn.preprocessing import StandardScaler"
   ]
  },
  {
   "cell_type": "markdown",
   "id": "bbdc71b0",
   "metadata": {},
   "source": [
    "Desde la bases de datos, he descargado los csv del ensayo"
   ]
  },
  {
   "cell_type": "code",
   "execution_count": 3,
   "id": "011f029f",
   "metadata": {},
   "outputs": [],
   "source": [
    "data_raw = pd.read_csv('GSE234011_raw_counts.csv')\n",
    "data_normalized = pd.read_csv('GSE234011_normalized_counts.csv')\n",
    "data_fpkm = pd.read_csv('GSE234011_fpkm.csv')"
   ]
  },
  {
   "cell_type": "markdown",
   "id": "f0a2450f",
   "metadata": {},
   "source": [
    "Aunque del artículo he obtenido estos 3 archivos, sólo trabajaré con los datos normalizados, que son los más óptimos para el tratamiento con PCA"
   ]
  },
  {
   "cell_type": "markdown",
   "id": "ed880731",
   "metadata": {},
   "source": [
    "Me he encontrado con un problema a la hora de realizar este análisis: PCA es un método de reducción de dimensionalidad, escogiendo los grupos independientes que reflejan la mayor varianza. No obstante, uno de mis objetivos es ver si la dieta de los ratones influye en su expresión génica. Para ello, primero realizaré un gráfico de dispersión, para ver si los grupos de ratones son sustancialmente distintos. Luego, veré si estos cambios se ven reflejados en un clustermap, aplicando ya el modelo PCA"
   ]
  },
  {
   "cell_type": "markdown",
   "id": "3516ecff",
   "metadata": {},
   "source": [
    "Por tanto, el primer paso es crear una función que me permita distinguir a los ratones según su dieta"
   ]
  },
  {
   "cell_type": "code",
   "execution_count": 4,
   "id": "4659877c",
   "metadata": {},
   "outputs": [],
   "source": [
    "def diet_mice(row):\n",
    "    for tags in data_normalized.columns:\n",
    "        if \"Chow\" in tags and row[tags] != 0:\n",
    "            return \"Chow Diet\"\n",
    "        elif \"HF\" in tags and row[tags] != 0:\n",
    "            return \"High Fat Diet\"\n",
    "    return \"Other\""
   ]
  },
  {
   "cell_type": "markdown",
   "id": "0d9d5beb",
   "metadata": {},
   "source": [
    "Al aplicar la función a cada fila, creo una nueva columna llamada Grupo"
   ]
  },
  {
   "cell_type": "code",
   "execution_count": 5,
   "id": "f88f2ef6",
   "metadata": {},
   "outputs": [],
   "source": [
    "data_normalized['Grupo'] = data_normalized.apply(diet_mice, axis=1)"
   ]
  },
  {
   "cell_type": "markdown",
   "id": "287d0aa8",
   "metadata": {},
   "source": [
    "De esta manera, ya puedo separar el DataFrame original en 2 variables: 'mice_data', que contiene los datos del análisis, y 'tags', que contiene las etiquetas de cada grupo"
   ]
  },
  {
   "cell_type": "code",
   "execution_count": 6,
   "id": "6511b591",
   "metadata": {},
   "outputs": [],
   "source": [
    "mice_data = data_normalized.drop('Grupo', axis=1) \n",
    "tags = data_normalized['Grupo'] "
   ]
  },
  {
   "cell_type": "code",
   "execution_count": 7,
   "id": "32b8f286",
   "metadata": {},
   "outputs": [
    {
     "data": {
      "text/html": [
       "<div>\n",
       "<style scoped>\n",
       "    .dataframe tbody tr th:only-of-type {\n",
       "        vertical-align: middle;\n",
       "    }\n",
       "\n",
       "    .dataframe tbody tr th {\n",
       "        vertical-align: top;\n",
       "    }\n",
       "\n",
       "    .dataframe thead th {\n",
       "        text-align: right;\n",
       "    }\n",
       "</style>\n",
       "<table border=\"1\" class=\"dataframe\">\n",
       "  <thead>\n",
       "    <tr style=\"text-align: right;\">\n",
       "      <th></th>\n",
       "      <th>Unnamed: 0</th>\n",
       "      <th>F-B6-Chow-20wk-31-fat</th>\n",
       "      <th>F-B6-Chow-20wk-32-fat</th>\n",
       "      <th>F-B6-Chow-20wk-38-fat</th>\n",
       "      <th>F-B6-Chow-20wk-39-fat</th>\n",
       "      <th>F-B6-Chow-20wk-40-fat</th>\n",
       "      <th>F-B6-Chow-20wk-41-fat</th>\n",
       "      <th>F-B6-HF-20wk-71-fat</th>\n",
       "      <th>F-B6-HF-20wk-72-fat</th>\n",
       "      <th>F-B6-HF-20wk-76-fat</th>\n",
       "      <th>...</th>\n",
       "      <th>M-TH-Chow-5wk-2239-soleus</th>\n",
       "      <th>M-TH-Chow-5wk-2240-soleus</th>\n",
       "      <th>M-TH-Chow-5wk-2263-soleus</th>\n",
       "      <th>M-TH-Chow-5wk-2264-soleus</th>\n",
       "      <th>M-TH-HF-5wk-2231-soleus</th>\n",
       "      <th>M-TH-HF-5wk-2232-soleus</th>\n",
       "      <th>M-TH-HF-5wk-2233-soleus</th>\n",
       "      <th>M-TH-HF-5wk-2237-soleus</th>\n",
       "      <th>M-TH-HF-5wk-2266-soleus</th>\n",
       "      <th>M-TH-HF-5wk-2268-soleus</th>\n",
       "    </tr>\n",
       "  </thead>\n",
       "  <tbody>\n",
       "    <tr>\n",
       "      <th>0</th>\n",
       "      <td>ENSMUSG00000000001</td>\n",
       "      <td>347.547248</td>\n",
       "      <td>370.901496</td>\n",
       "      <td>394.102849</td>\n",
       "      <td>273.466854</td>\n",
       "      <td>428.023887</td>\n",
       "      <td>402.615164</td>\n",
       "      <td>459.302942</td>\n",
       "      <td>457.24014</td>\n",
       "      <td>443.448971</td>\n",
       "      <td>...</td>\n",
       "      <td>120.538409</td>\n",
       "      <td>24.760721</td>\n",
       "      <td>79.706120</td>\n",
       "      <td>33.969639</td>\n",
       "      <td>7.782018</td>\n",
       "      <td>16.981710</td>\n",
       "      <td>74.031807</td>\n",
       "      <td>130.254325</td>\n",
       "      <td>115.448266</td>\n",
       "      <td>29.867978</td>\n",
       "    </tr>\n",
       "    <tr>\n",
       "      <th>1</th>\n",
       "      <td>ENSMUSG00000000003</td>\n",
       "      <td>0.000000</td>\n",
       "      <td>0.000000</td>\n",
       "      <td>0.000000</td>\n",
       "      <td>0.000000</td>\n",
       "      <td>0.000000</td>\n",
       "      <td>0.000000</td>\n",
       "      <td>0.268441</td>\n",
       "      <td>0.00000</td>\n",
       "      <td>0.000000</td>\n",
       "      <td>...</td>\n",
       "      <td>0.000000</td>\n",
       "      <td>0.000000</td>\n",
       "      <td>0.000000</td>\n",
       "      <td>0.000000</td>\n",
       "      <td>0.000000</td>\n",
       "      <td>0.000000</td>\n",
       "      <td>0.000000</td>\n",
       "      <td>0.000000</td>\n",
       "      <td>0.000000</td>\n",
       "      <td>0.000000</td>\n",
       "    </tr>\n",
       "    <tr>\n",
       "      <th>2</th>\n",
       "      <td>ENSMUSG00000000028</td>\n",
       "      <td>22.644722</td>\n",
       "      <td>23.543885</td>\n",
       "      <td>13.391844</td>\n",
       "      <td>12.621547</td>\n",
       "      <td>12.290324</td>\n",
       "      <td>12.266053</td>\n",
       "      <td>21.743740</td>\n",
       "      <td>19.27476</td>\n",
       "      <td>21.169674</td>\n",
       "      <td>...</td>\n",
       "      <td>11.300476</td>\n",
       "      <td>20.295673</td>\n",
       "      <td>19.440517</td>\n",
       "      <td>18.343605</td>\n",
       "      <td>33.722077</td>\n",
       "      <td>20.126471</td>\n",
       "      <td>25.413904</td>\n",
       "      <td>15.678761</td>\n",
       "      <td>17.761272</td>\n",
       "      <td>21.550313</td>\n",
       "    </tr>\n",
       "    <tr>\n",
       "      <th>3</th>\n",
       "      <td>ENSMUSG00000000031</td>\n",
       "      <td>15.752850</td>\n",
       "      <td>3.070942</td>\n",
       "      <td>22.957448</td>\n",
       "      <td>7.713168</td>\n",
       "      <td>8.549790</td>\n",
       "      <td>5.050728</td>\n",
       "      <td>15.569591</td>\n",
       "      <td>16.41924</td>\n",
       "      <td>24.512255</td>\n",
       "      <td>...</td>\n",
       "      <td>12812.102843</td>\n",
       "      <td>18040.417789</td>\n",
       "      <td>15269.554173</td>\n",
       "      <td>22011.646644</td>\n",
       "      <td>27325.906722</td>\n",
       "      <td>25282.620866</td>\n",
       "      <td>17448.302364</td>\n",
       "      <td>18660.138179</td>\n",
       "      <td>17780.077784</td>\n",
       "      <td>20843.311432</td>\n",
       "    </tr>\n",
       "    <tr>\n",
       "      <th>4</th>\n",
       "      <td>ENSMUSG00000000037</td>\n",
       "      <td>4.594581</td>\n",
       "      <td>3.070942</td>\n",
       "      <td>16.580379</td>\n",
       "      <td>4.908379</td>\n",
       "      <td>25.649371</td>\n",
       "      <td>10.822988</td>\n",
       "      <td>15.032709</td>\n",
       "      <td>16.41924</td>\n",
       "      <td>7.242257</td>\n",
       "      <td>...</td>\n",
       "      <td>6.026920</td>\n",
       "      <td>0.000000</td>\n",
       "      <td>2.430065</td>\n",
       "      <td>2.038178</td>\n",
       "      <td>0.000000</td>\n",
       "      <td>1.257904</td>\n",
       "      <td>0.552476</td>\n",
       "      <td>3.618176</td>\n",
       "      <td>1.044781</td>\n",
       "      <td>1.134227</td>\n",
       "    </tr>\n",
       "  </tbody>\n",
       "</table>\n",
       "<p>5 rows × 400 columns</p>\n",
       "</div>"
      ],
      "text/plain": [
       "           Unnamed: 0  F-B6-Chow-20wk-31-fat  F-B6-Chow-20wk-32-fat  \\\n",
       "0  ENSMUSG00000000001             347.547248             370.901496   \n",
       "1  ENSMUSG00000000003               0.000000               0.000000   \n",
       "2  ENSMUSG00000000028              22.644722              23.543885   \n",
       "3  ENSMUSG00000000031              15.752850               3.070942   \n",
       "4  ENSMUSG00000000037               4.594581               3.070942   \n",
       "\n",
       "   F-B6-Chow-20wk-38-fat  F-B6-Chow-20wk-39-fat  F-B6-Chow-20wk-40-fat  \\\n",
       "0             394.102849             273.466854             428.023887   \n",
       "1               0.000000               0.000000               0.000000   \n",
       "2              13.391844              12.621547              12.290324   \n",
       "3              22.957448               7.713168               8.549790   \n",
       "4              16.580379               4.908379              25.649371   \n",
       "\n",
       "   F-B6-Chow-20wk-41-fat  F-B6-HF-20wk-71-fat  F-B6-HF-20wk-72-fat  \\\n",
       "0             402.615164           459.302942            457.24014   \n",
       "1               0.000000             0.268441              0.00000   \n",
       "2              12.266053            21.743740             19.27476   \n",
       "3               5.050728            15.569591             16.41924   \n",
       "4              10.822988            15.032709             16.41924   \n",
       "\n",
       "   F-B6-HF-20wk-76-fat  ...  M-TH-Chow-5wk-2239-soleus  \\\n",
       "0           443.448971  ...                 120.538409   \n",
       "1             0.000000  ...                   0.000000   \n",
       "2            21.169674  ...                  11.300476   \n",
       "3            24.512255  ...               12812.102843   \n",
       "4             7.242257  ...                   6.026920   \n",
       "\n",
       "   M-TH-Chow-5wk-2240-soleus  M-TH-Chow-5wk-2263-soleus  \\\n",
       "0                  24.760721                  79.706120   \n",
       "1                   0.000000                   0.000000   \n",
       "2                  20.295673                  19.440517   \n",
       "3               18040.417789               15269.554173   \n",
       "4                   0.000000                   2.430065   \n",
       "\n",
       "   M-TH-Chow-5wk-2264-soleus  M-TH-HF-5wk-2231-soleus  \\\n",
       "0                  33.969639                 7.782018   \n",
       "1                   0.000000                 0.000000   \n",
       "2                  18.343605                33.722077   \n",
       "3               22011.646644             27325.906722   \n",
       "4                   2.038178                 0.000000   \n",
       "\n",
       "   M-TH-HF-5wk-2232-soleus  M-TH-HF-5wk-2233-soleus  M-TH-HF-5wk-2237-soleus  \\\n",
       "0                16.981710                74.031807               130.254325   \n",
       "1                 0.000000                 0.000000                 0.000000   \n",
       "2                20.126471                25.413904                15.678761   \n",
       "3             25282.620866             17448.302364             18660.138179   \n",
       "4                 1.257904                 0.552476                 3.618176   \n",
       "\n",
       "   M-TH-HF-5wk-2266-soleus  M-TH-HF-5wk-2268-soleus  \n",
       "0               115.448266                29.867978  \n",
       "1                 0.000000                 0.000000  \n",
       "2                17.761272                21.550313  \n",
       "3             17780.077784             20843.311432  \n",
       "4                 1.044781                 1.134227  \n",
       "\n",
       "[5 rows x 400 columns]"
      ]
     },
     "execution_count": 7,
     "metadata": {},
     "output_type": "execute_result"
    }
   ],
   "source": [
    "mice_data.head()"
   ]
  },
  {
   "cell_type": "markdown",
   "id": "f57dcee8",
   "metadata": {},
   "source": [
    "Dentro de mice_data hay 1 fila problemática a la hora de estandarizar mis datos, ya que no son datos numéricos; son los identificadores de los ratones. Por lo tanto, seleccionaré sólo los datos numéricos"
   ]
  },
  {
   "cell_type": "code",
   "execution_count": 8,
   "id": "a872f01c",
   "metadata": {},
   "outputs": [],
   "source": [
    "mice_data = mice_data.select_dtypes(include=[np.number])"
   ]
  },
  {
   "cell_type": "markdown",
   "id": "1c0498c1",
   "metadata": {},
   "source": [
    "Después del tratamiento de mis datos, finalmente puedo normalizarlos"
   ]
  },
  {
   "cell_type": "code",
   "execution_count": 9,
   "id": "73e3aee0",
   "metadata": {},
   "outputs": [],
   "source": [
    "mice_norm = StandardScaler().fit_transform(mice_data)"
   ]
  },
  {
   "cell_type": "markdown",
   "id": "f7e5df5e",
   "metadata": {},
   "source": [
    "Gracias a la librería scikit-learn, podemos realizar PCA"
   ]
  },
  {
   "cell_type": "code",
   "execution_count": 10,
   "id": "6e875517",
   "metadata": {},
   "outputs": [],
   "source": [
    "pca = PCA(n_components=2)\n",
    "pc = pca.fit_transform(mice_norm)"
   ]
  },
  {
   "cell_type": "markdown",
   "id": "98e41577",
   "metadata": {},
   "source": [
    "A continuación, visualizamos una gráfica de dispersión con nuestro datos, para comprobar si hay diferencia entre los 2 grupos de ratones según su dieta"
   ]
  },
  {
   "cell_type": "code",
   "execution_count": 11,
   "id": "e08ad5c9",
   "metadata": {},
   "outputs": [
    {
     "data": {
      "image/png": "[encoded data removed]",
      "text/plain": [
       "<Figure size 800x600 with 1 Axes>"
      ]
     },
     "metadata": {},
     "output_type": "display_data"
    }
   ],
   "source": [
    "plt.figure(figsize=(8,6)) #tamaño estándar de las pantallas\n",
    "for grupo, color in zip(['Chow Diet', 'High Fat Diet'], ['blue', 'pink']):\n",
    "    indices = tags == grupo\n",
    "    plt.scatter(pc[indices, 0], pc[indices, 1], c=color, label=grupo)\n",
    "plt.xlabel('Componente Principal 1')\n",
    "plt.ylabel('Componente Principal 2')\n",
    "plt.legend()\n",
    "plt.title('PCA de Ratones con Diferentes Dietas')\n",
    "plt.show()"
   ]
  },
  {
   "cell_type": "markdown",
   "id": "36b90c02",
   "metadata": {},
   "source": [
    "Si descarto algunos outliners, se pueden apreciar 2 grupos bien diferenciados"
   ]
  },
  {
   "cell_type": "markdown",
   "id": "f2565a44",
   "metadata": {},
   "source": [
    "Comprobado esto, realiza un dendograma"
   ]
  },
  {
   "cell_type": "markdown",
   "id": "96c85fbb",
   "metadata": {},
   "source": [
    "Para ello, creo un DataFrame que contenga los componentes principales"
   ]
  },
  {
   "cell_type": "code",
   "execution_count": 12,
   "id": "c9834192",
   "metadata": {},
   "outputs": [],
   "source": [
    "df_pca = pd.DataFrame(data = pc, columns = ['PC1', 'PC2'])"
   ]
  },
  {
   "cell_type": "markdown",
   "id": "01421cc3",
   "metadata": {},
   "source": [
    "Gracias a este, ya puedo dibujar el dendograma o clustermap"
   ]
  },
  {
   "cell_type": "code",
   "execution_count": 13,
   "id": "aa9f686d",
   "metadata": {},
   "outputs": [
    {
     "data": {
      "image/png": "[encoded data removed]",
      "text/plain": [
       "<Figure size 1000x1000 with 4 Axes>"
      ]
     },
     "metadata": {},
     "output_type": "display_data"
    }
   ],
   "source": [
    "sns.clustermap(df_pca.head(75))\n",
    "plt.title(\"Mapa de Calor de PCA\")\n",
    "plt.xlabel(\"Componentes Principales\")\n",
    "plt.ylabel(\"Muestras\")\n",
    "plt.show()"
   ]
  }
 ],
 "metadata": {
  "kernelspec": {
   "display_name": "Python 3 (ipykernel)",
   "language": "python",
   "name": "python3"
  },
  "language_info": {
   "codemirror_mode": {
    "name": "ipython",
    "version": 3
   },
   "file_extension": ".py",
   "mimetype": "text/x-python",
   "name": "python",
   "nbconvert_exporter": "python",
   "pygments_lexer": "ipython3",
   "version": "3.10.9"
  },
  "widgets": {
   "application/vnd.jupyter.widget-state+json": {
    "state": {},
    "version_major": 2,
    "version_minor": 0
   }
  }
 },
 "nbformat": 4,
 "nbformat_minor": 5
}
